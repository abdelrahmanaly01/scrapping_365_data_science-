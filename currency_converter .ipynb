{
 "cells": [
  {
   "cell_type": "code",
   "execution_count": 2,
   "metadata": {},
   "outputs": [],
   "source": [
    "import requests\n",
    "import json"
   ]
  },
  {
   "cell_type": "code",
   "execution_count": 27,
   "metadata": {},
   "outputs": [
    {
     "name": "stdout",
     "output_type": "stream",
     "text": [
      "please enter the currency you want to convert Ex.(USD,EGP,EUR):EGP\n",
      "please enter the amount :200\n",
      "enter the date in format'YYYY-MM-DD' or 'latest' for the latest curruncy price :latest\n"
     ]
    }
   ],
   "source": [
    "currency = input(\"please enter the currency you want to convert Ex.(USD,EGP,EUR):\").strip().upper()\n",
    "amount = float(input(\"please enter the amount :\"))\n",
    "date = input(\"enter the date in format'YYYY-MM-DD' or 'latest' for the latest curruncy price :\")\n",
    "\n",
    "url = 'http://api.exchangeratesapi.io/v1/'"
   ]
  },
  {
   "cell_type": "code",
   "execution_count": 28,
   "metadata": {},
   "outputs": [
    {
     "data": {
      "text/plain": [
       "'http://api.exchangeratesapi.io/v1/latest?access_key=60f2b9fcd5adfb629b3b2185c7998fe5&base=EUR&symbols=EGP'"
      ]
     },
     "execution_count": 28,
     "metadata": {},
     "output_type": "execute_result"
    }
   ],
   "source": [
    "api = url + date + '?access_key=60f2b9fcd5adfb629b3b2185c7998fe5&' + \"base=EUR\" + \"&symbols=\"+currency\n",
    "api"
   ]
  },
  {
   "cell_type": "code",
   "execution_count": 29,
   "metadata": {},
   "outputs": [
    {
     "data": {
      "text/plain": [
       "<Response [200]>"
      ]
     },
     "execution_count": 29,
     "metadata": {},
     "output_type": "execute_result"
    }
   ],
   "source": [
    "response = requests.get(api)\n",
    "response"
   ]
  },
  {
   "cell_type": "code",
   "execution_count": 30,
   "metadata": {},
   "outputs": [
    {
     "data": {
      "text/plain": [
       "True"
      ]
     },
     "execution_count": 30,
     "metadata": {},
     "output_type": "execute_result"
    }
   ],
   "source": [
    "response.ok"
   ]
  },
  {
   "cell_type": "code",
   "execution_count": 32,
   "metadata": {},
   "outputs": [
    {
     "name": "stdout",
     "output_type": "stream",
     "text": [
      "the 200.0 EUR costs 3641.655 EGP according to latest price \n"
     ]
    }
   ],
   "source": [
    "\n",
    "if(response.ok):\n",
    "    price = response.json()['rates']['EGP']*amount\n",
    "    print(\"the {0} EUR costs {1} {2} according to {3} price \".format(amount,price,currency,date))\n",
    "else:\n",
    "    print(response.json()['error']['message'])\n"
   ]
  },
  {
   "cell_type": "code",
   "execution_count": null,
   "metadata": {},
   "outputs": [],
   "source": [
    "input('press enter to exit...')"
   ]
  },
  {
   "cell_type": "code",
   "execution_count": null,
   "metadata": {},
   "outputs": [],
   "source": []
  }
 ],
 "metadata": {
  "kernelspec": {
   "display_name": "Python 3",
   "language": "python",
   "name": "python3"
  },
  "language_info": {
   "codemirror_mode": {
    "name": "ipython",
    "version": 3
   },
   "file_extension": ".py",
   "mimetype": "text/x-python",
   "name": "python",
   "nbconvert_exporter": "python",
   "pygments_lexer": "ipython3",
   "version": "3.7.6"
  }
 },
 "nbformat": 4,
 "nbformat_minor": 4
}
