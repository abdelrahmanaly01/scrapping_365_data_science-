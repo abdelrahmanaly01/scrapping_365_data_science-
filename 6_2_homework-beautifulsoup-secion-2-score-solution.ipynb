{
 "cells": [
  {
   "cell_type": "markdown",
   "metadata": {},
   "source": [
    "## Set up"
   ]
  },
  {
   "cell_type": "code",
   "execution_count": 1,
   "metadata": {},
   "outputs": [],
   "source": [
    "# load the packages\n",
    "import requests\n",
    "from bs4 import BeautifulSoup"
   ]
  },
  {
   "cell_type": "code",
   "execution_count": 2,
   "metadata": {},
   "outputs": [],
   "source": [
    "# Define the URL of the site\n",
    "base_site = \"https://editorial.rottentomatoes.com/guide/140-essential-action-movies-to-watch-now/2/\""
   ]
  },
  {
   "cell_type": "code",
   "execution_count": 3,
   "metadata": {},
   "outputs": [
    {
     "data": {
      "text/plain": [
       "200"
      ]
     },
     "execution_count": 3,
     "metadata": {},
     "output_type": "execute_result"
    }
   ],
   "source": [
    "# sending a request to the webpage\n",
    "response = requests.get(base_site)\n",
    "response.status_code"
   ]
  },
  {
   "cell_type": "code",
   "execution_count": 4,
   "metadata": {},
   "outputs": [],
   "source": [
    "# get the HTML from the webpage\n",
    "html = response.content"
   ]
  },
  {
   "cell_type": "code",
   "execution_count": 5,
   "metadata": {},
   "outputs": [],
   "source": [
    "# convert the HTML to a BeatifulSoup object\n",
    "soup = BeautifulSoup(html, 'lxml')"
   ]
  },
  {
   "cell_type": "code",
   "execution_count": 6,
   "metadata": {},
   "outputs": [],
   "source": [
    "# Find all div tags on the webpage containing the information we want to scrape\n",
    "divs = soup.find_all(\"div\", {\"class\": \"col-sm-18 col-full-xs countdown-item-content\"})"
   ]
  },
  {
   "cell_type": "code",
   "execution_count": 7,
   "metadata": {},
   "outputs": [
    {
     "data": {
      "text/plain": [
       "[<h2><a href=\"https://www.rottentomatoes.com/m/13_assassins_2011/\">13 Assassins</a> <span class=\"subtle start-year\">(2011)</span> <span class=\"icon tiny certified\" title=\"Certified Fresh\"></span> <span class=\"tMeterScore\">95%</span></h2>,\n",
       " <h2><a href=\"https://www.rottentomatoes.com/m/full_contact/\">Full Contact</a> <span class=\"subtle start-year\">(1992)</span> <span class=\"icon tiny fresh\" title=\"Fresh\"></span> <span class=\"tMeterScore\">88%</span></h2>,\n",
       " <h2><a href=\"https://www.rottentomatoes.com/m/indiana_jones_and_the_last_crusade/\">Indiana Jones and the Last Crusade</a> <span class=\"subtle start-year\">(1989)</span> <span class=\"icon tiny certified\" title=\"Certified Fresh\"></span> <span class=\"tMeterScore\">88%</span></h2>,\n",
       " <h2><a href=\"https://www.rottentomatoes.com/m/kung_fu_hustle/\">Kung Fu Hustle</a> <span class=\"subtle start-year\">(2005)</span> <span class=\"icon tiny certified\" title=\"Certified Fresh\"></span> <span class=\"tMeterScore\">90%</span></h2>,\n",
       " <h2><a href=\"https://www.rottentomatoes.com/m/better_tomorrow/\">A Better Tomorrow</a> <span class=\"subtle start-year\">(2010)</span> <span class=\"icon tiny fresh\" title=\"Fresh\"></span> <span class=\"tMeterScore\">93%</span></h2>,\n",
       " <h2><a href=\"https://www.rottentomatoes.com/m/iron_man/\">Iron Man</a> <span class=\"subtle start-year\">(2008)</span> <span class=\"icon tiny certified\" title=\"Certified Fresh\"></span> <span class=\"tMeterScore\">94%</span></h2>,\n",
       " <h2><a href=\"https://www.rottentomatoes.com/m/the_night_comes_for_us/\">The Night Comes For Us</a> <span class=\"subtle start-year\">(2018)</span> <span class=\"icon tiny fresh\" title=\"Fresh\"></span> <span class=\"tMeterScore\">90%</span></h2>,\n",
       " <h2><a href=\"https://www.rottentomatoes.com/m/logan_2017/\">Logan</a> <span class=\"subtle start-year\">(2017)</span> <span class=\"icon tiny certified\" title=\"Certified Fresh\"></span> <span class=\"tMeterScore\">93%</span></h2>,\n",
       " <h2><a href=\"https://www.rottentomatoes.com/m/goldfinger/\">Goldfinger</a> <span class=\"subtle start-year\">(1964)</span> <span class=\"icon tiny certified\" title=\"Certified Fresh\"></span> <span class=\"tMeterScore\">97%</span></h2>,\n",
       " <h2><a href=\"https://www.rottentomatoes.com/m/1001280-assault_on_precinct_13/\">Assault on Precinct 13</a> <span class=\"subtle start-year\">(1976)</span> <span class=\"icon tiny certified\" title=\"Certified Fresh\"></span> <span class=\"tMeterScore\">98%</span></h2>,\n",
       " <h2><a href=\"https://www.rottentomatoes.com/m/wonder_woman_2017/\">Wonder Woman</a> <span class=\"subtle start-year\">(2017)</span> <span class=\"icon tiny certified\" title=\"Certified Fresh\"></span> <span class=\"tMeterScore\">93%</span></h2>,\n",
       " <h2><a href=\"https://www.rottentomatoes.com/m/chinese_connection/\">Fist of Fury (Jing wu men)</a> <span class=\"subtle start-year\">(1972)</span> <span class=\"icon tiny fresh\" title=\"Fresh\"></span> <span class=\"tMeterScore\">92%</span></h2>,\n",
       " <h2><a href=\"https://www.rottentomatoes.com/m/captain_america_the_winter_soldier_2014/\">Captain America: The Winter Soldier</a> <span class=\"subtle start-year\">(2014)</span> <span class=\"icon tiny certified\" title=\"Certified Fresh\"></span> <span class=\"tMeterScore\">90%</span></h2>,\n",
       " <h2><a href=\"https://www.rottentomatoes.com/m/oldboy/\">Oldboy</a> <span class=\"subtle start-year\">(2005)</span> <span class=\"icon tiny certified\" title=\"Certified Fresh\"></span> <span class=\"tMeterScore\">82%</span></h2>,\n",
       " <h2><a href=\"https://www.rottentomatoes.com/m/french_connection/\">The French Connection</a> <span class=\"subtle start-year\">(1971)</span> <span class=\"icon tiny certified\" title=\"Certified Fresh\"></span> <span class=\"tMeterScore\">98%</span></h2>,\n",
       " <h2><a href=\"https://www.rottentomatoes.com/m/furious_7/\">Furious 7</a> <span class=\"subtle start-year\">(2015)</span> <span class=\"icon tiny certified\" title=\"Certified Fresh\"></span> <span class=\"tMeterScore\">81%</span></h2>,\n",
       " <h2><a href=\"https://www.rottentomatoes.com/m/la_femme_nikita/\">La Femme Nikita (Nikita)</a> <span class=\"subtle start-year\">(1990)</span> <span class=\"icon tiny certified\" title=\"Certified Fresh\"></span> <span class=\"tMeterScore\">88%</span></h2>,\n",
       " <h2><a href=\"https://www.rottentomatoes.com/m/supercop/\">Supercop</a> <span class=\"subtle start-year\">(1996)</span> <span class=\"icon tiny certified\" title=\"Certified Fresh\"></span> <span class=\"tMeterScore\">96%</span></h2>,\n",
       " <h2><a href=\"https://www.rottentomatoes.com/m/dirty_harry/\">Dirty Harry</a> <span class=\"subtle start-year\">(1971)</span> <span class=\"icon tiny certified\" title=\"Certified Fresh\"></span> <span class=\"tMeterScore\">91%</span></h2>,\n",
       " <h2><a href=\"https://www.rottentomatoes.com/m/live_die_repeat_edge_of_tomorrow/\">Live Die Repeat: Edge of Tomorrow</a> <span class=\"subtle start-year\">(2014)</span> <span class=\"icon tiny certified\" title=\"Certified Fresh\"></span> <span class=\"tMeterScore\">90%</span></h2>,\n",
       " <h2><a href=\"https://www.rottentomatoes.com/m/x2_xmen_united/\">X2: X-Men United</a> <span class=\"subtle start-year\">(2003)</span> <span class=\"icon tiny certified\" title=\"Certified Fresh\"></span> <span class=\"tMeterScore\">85%</span></h2>,\n",
       " <h2><a href=\"https://www.rottentomatoes.com/m/1046129-fugitive/\">The Fugitive</a> <span class=\"subtle start-year\">(1993)</span> <span class=\"icon tiny certified\" title=\"Certified Fresh\"></span> <span class=\"tMeterScore\">96%</span></h2>,\n",
       " <h2><a href=\"https://www.rottentomatoes.com/m/black_panther_2018/\">Black Panther</a> <span class=\"subtle start-year\">(2018)</span> <span class=\"icon tiny certified\" title=\"Certified Fresh\"></span> <span class=\"tMeterScore\">97%</span></h2>,\n",
       " <h2><a href=\"https://www.rottentomatoes.com/m/inception/\">Inception</a> <span class=\"subtle start-year\">(2010)</span> <span class=\"icon tiny certified\" title=\"Certified Fresh\"></span> <span class=\"tMeterScore\">87%</span></h2>,\n",
       " <h2><a href=\"https://www.rottentomatoes.com/m/1065684-braveheart/\">Braveheart</a> <span class=\"subtle start-year\">(1995)</span> <span class=\"icon tiny certified\" title=\"Certified Fresh\"></span> <span class=\"tMeterScore\">77%</span></h2>,\n",
       " <h2><a href=\"https://www.rottentomatoes.com/m/minority_report/\">Minority Report</a> <span class=\"subtle start-year\">(2002)</span> <span class=\"icon tiny certified\" title=\"Certified Fresh\"></span> <span class=\"tMeterScore\">90%</span></h2>,\n",
       " <h2><a href=\"https://www.rottentomatoes.com/m/avengers_endgame/\">Avengers: Endgame</a> <span class=\"subtle start-year\">(2019)</span> <span class=\"icon tiny certified\" title=\"Certified Fresh\"></span> <span class=\"tMeterScore\">94%</span></h2>,\n",
       " <h2><a href=\"https://www.rottentomatoes.com/m/dredd/\">Dredd</a> <span class=\"subtle start-year\">(2012)</span> <span class=\"icon tiny certified\" title=\"Certified Fresh\"></span> <span class=\"tMeterScore\">79%</span></h2>,\n",
       " <h2><a href=\"https://www.rottentomatoes.com/m/bourne_identity/\">The Bourne Identity</a> <span class=\"subtle start-year\">(2002)</span> <span class=\"icon tiny certified\" title=\"Certified Fresh\"></span> <span class=\"tMeterScore\">83%</span></h2>,\n",
       " <h2><a href=\"https://www.rottentomatoes.com/m/ip_man/\">Ip Man</a> <span class=\"subtle start-year\">(2010)</span> <span class=\"icon tiny fresh\" title=\"Fresh\"></span> <span class=\"tMeterScore\">85%</span></h2>,\n",
       " <h2><a href=\"https://www.rottentomatoes.com/m/faceoff/\">Face/Off</a> <span class=\"subtle start-year\">(1997)</span> <span class=\"icon tiny certified\" title=\"Certified Fresh\"></span> <span class=\"tMeterScore\">92%</span></h2>,\n",
       " <h2><a href=\"https://www.rottentomatoes.com/m/to_live_and_die_in_la/\">To Live and Die in L.A.</a> <span class=\"subtle start-year\">(1985)</span> <span class=\"icon tiny fresh\" title=\"Fresh\"></span> <span class=\"tMeterScore\">91%</span></h2>,\n",
       " <h2><a href=\"https://www.rottentomatoes.com/m/the_dark_knight/\">The Dark Knight</a> <span class=\"subtle start-year\">(2008)</span> <span class=\"icon tiny certified\" title=\"Certified Fresh\"></span> <span class=\"tMeterScore\">94%</span></h2>,\n",
       " <h2><a href=\"https://www.rottentomatoes.com/m/mission_impossible_ghost_protocol/\">Mission: Impossible Ghost Protocol</a> <span class=\"subtle start-year\">(2011)</span> <span class=\"icon tiny certified\" title=\"Certified Fresh\"></span> <span class=\"tMeterScore\">93%</span></h2>,\n",
       " <h2><a href=\"https://www.rottentomatoes.com/m/fast_five/\">Fast Five</a> <span class=\"subtle start-year\">(2011)</span> <span class=\"icon tiny certified\" title=\"Certified Fresh\"></span> <span class=\"tMeterScore\">77%</span></h2>,\n",
       " <h2><a href=\"https://www.rottentomatoes.com/m/lethal_weapon/\">Lethal Weapon</a> <span class=\"subtle start-year\">(1987)</span> <span class=\"icon tiny certified\" title=\"Certified Fresh\"></span> <span class=\"tMeterScore\">82%</span></h2>,\n",
       " <h2><a href=\"https://www.rottentomatoes.com/m/1072011-rock/\">The Rock</a> <span class=\"subtle start-year\">(1996)</span> <span class=\"icon tiny fresh\" title=\"Fresh\"></span> <span class=\"tMeterScore\">66%</span></h2>,\n",
       " <h2><a href=\"https://www.rottentomatoes.com/m/1017712-robocop/\">RoboCop</a> <span class=\"subtle start-year\">(1987)</span> <span class=\"icon tiny certified\" title=\"Certified Fresh\"></span> <span class=\"tMeterScore\">89%</span></h2>,\n",
       " <h2><a href=\"https://www.rottentomatoes.com/m/john_wick_chapter_2/\">John Wick: Chapter 2</a> <span class=\"subtle start-year\">(2017)</span> <span class=\"icon tiny certified\" title=\"Certified Fresh\"></span> <span class=\"tMeterScore\">89%</span></h2>,\n",
       " <h2><a href=\"https://www.rottentomatoes.com/m/casino_royale/\">Casino Royale</a> <span class=\"subtle start-year\">(2006)</span> <span class=\"icon tiny certified\" title=\"Certified Fresh\"></span> <span class=\"tMeterScore\">95%</span></h2>,\n",
       " <h2><a href=\"https://www.rottentomatoes.com/m/baby_driver/\">Baby Driver</a> <span class=\"subtle start-year\">(2017)</span> <span class=\"icon tiny certified\" title=\"Certified Fresh\"></span> <span class=\"tMeterScore\">93%</span></h2>,\n",
       " <h2><a href=\"https://www.rottentomatoes.com/m/fist_of_legend/\">Fist of Legend (Jing wu ying xiong)</a> <span class=\"subtle start-year\">(1994)</span> <span class=\"icon tiny fresh\" title=\"Fresh\"></span> <span class=\"tMeterScore\">100%</span></h2>,\n",
       " <h2><a href=\"https://www.rottentomatoes.com/m/1032434-killer/\">The Killer</a> <span class=\"subtle start-year\">(1989)</span> <span class=\"icon tiny certified\" title=\"Certified Fresh\"></span> <span class=\"tMeterScore\">98%</span></h2>,\n",
       " <h2><a href=\"https://www.rottentomatoes.com/m/the_raid_2/\">The Raid 2</a> <span class=\"subtle start-year\">(2014)</span> <span class=\"icon tiny certified\" title=\"Certified Fresh\"></span> <span class=\"tMeterScore\">80%</span></h2>,\n",
       " <h2><a href=\"https://www.rottentomatoes.com/m/enter_the_dragon/\">Enter the Dragon</a> <span class=\"subtle start-year\">(1973)</span> <span class=\"icon tiny certified\" title=\"Certified Fresh\"></span> <span class=\"tMeterScore\">94%</span></h2>,\n",
       " <h2><a href=\"https://www.rottentomatoes.com/m/1004567-commando/\">Commando</a> <span class=\"subtle start-year\">(1985)</span> <span class=\"icon tiny fresh\" title=\"Fresh\"></span> <span class=\"tMeterScore\">70%</span></h2>,\n",
       " <h2><a href=\"https://www.rottentomatoes.com/m/first_blood/\">First Blood</a> <span class=\"subtle start-year\">(1982)</span> <span class=\"icon tiny certified\" title=\"Certified Fresh\"></span> <span class=\"tMeterScore\">87%</span></h2>,\n",
       " <h2><a href=\"https://www.rottentomatoes.com/m/mission_impossible_rogue_nation/\">Mission: Impossible Rogue Nation</a> <span class=\"subtle start-year\">(2015)</span> <span class=\"icon tiny certified\" title=\"Certified Fresh\"></span> <span class=\"tMeterScore\">93%</span></h2>,\n",
       " <h2><a href=\"https://www.rottentomatoes.com/m/terminator/\">The Terminator</a> <span class=\"subtle start-year\">(1984)</span> <span class=\"icon tiny certified\" title=\"Certified Fresh\"></span> <span class=\"tMeterScore\">100%</span></h2>,\n",
       " <h2><a href=\"https://www.rottentomatoes.com/m/gladiator/\">Gladiator</a> <span class=\"subtle start-year\">(2000)</span> <span class=\"icon tiny certified\" title=\"Certified Fresh\"></span> <span class=\"tMeterScore\">76%</span></h2>,\n",
       " <h2><a href=\"https://www.rottentomatoes.com/m/kill_bill_vol_1/\">Kill Bill: Volume 1</a> <span class=\"subtle start-year\">(2003)</span> <span class=\"icon tiny certified\" title=\"Certified Fresh\"></span> <span class=\"tMeterScore\">85%</span></h2>,\n",
       " <h2><a href=\"https://www.rottentomatoes.com/m/leon_the_professional/\">Léon: The Professional</a> <span class=\"subtle start-year\">(1994)</span> <span class=\"icon tiny certified\" title=\"Certified Fresh\"></span> <span class=\"tMeterScore\">73%</span></h2>,\n",
       " <h2><a href=\"https://www.rottentomatoes.com/m/speed_1994/\">Speed</a> <span class=\"subtle start-year\">(1994)</span> <span class=\"icon tiny certified\" title=\"Certified Fresh\"></span> <span class=\"tMeterScore\">94%</span></h2>,\n",
       " <h2><a href=\"https://www.rottentomatoes.com/m/legend_of_drunken_master/\">The Legend of Drunken Master (Jui kuen II) (Drunken Fist II)</a> <span class=\"subtle start-year\">(1994)</span> <span class=\"icon tiny certified\" title=\"Certified Fresh\"></span> <span class=\"tMeterScore\">83%</span></h2>,\n",
       " <h2><a href=\"https://www.rottentomatoes.com/m/john_wick/\">John Wick</a> <span class=\"subtle start-year\">(2014)</span> <span class=\"icon tiny certified\" title=\"Certified Fresh\"></span> <span class=\"tMeterScore\">86%</span></h2>,\n",
       " <h2><a href=\"https://www.rottentomatoes.com/m/crouching_tiger_hidden_dragon/\">Crouching Tiger, Hidden Dragon</a> <span class=\"subtle start-year\">(2001)</span> <span class=\"icon tiny certified\" title=\"Certified Fresh\"></span> <span class=\"tMeterScore\">97%</span></h2>,\n",
       " <h2><a href=\"https://www.rottentomatoes.com/m/predator/\">Predator</a> <span class=\"subtle start-year\">(1987)</span> <span class=\"icon tiny certified\" title=\"Certified Fresh\"></span> <span class=\"tMeterScore\">81%</span></h2>,\n",
       " <h2><a href=\"https://www.rottentomatoes.com/m/bourne_ultimatum/\">The Bourne Ultimatum</a> <span class=\"subtle start-year\">(2007)</span> <span class=\"icon tiny certified\" title=\"Certified Fresh\"></span> <span class=\"tMeterScore\">92%</span></h2>,\n",
       " <h2><a href=\"https://www.rottentomatoes.com/m/total_recall/\">Total Recall</a> <span class=\"subtle start-year\">(1990)</span> <span class=\"icon tiny certified\" title=\"Certified Fresh\"></span> <span class=\"tMeterScore\">82%</span></h2>,\n",
       " <h2><a href=\"https://www.rottentomatoes.com/m/mad_max_2_the_road_warrior/\">Mad Max 2: The Road Warrior</a> <span class=\"subtle start-year\">(1982)</span> <span class=\"icon tiny certified\" title=\"Certified Fresh\"></span> <span class=\"tMeterScore\">95%</span></h2>,\n",
       " <h2><a href=\"https://www.rottentomatoes.com/m/1068182-heat/\">Heat</a> <span class=\"subtle start-year\">(1995)</span> <span class=\"icon tiny certified\" title=\"Certified Fresh\"></span> <span class=\"tMeterScore\">86%</span></h2>,\n",
       " <h2><a href=\"https://www.rottentomatoes.com/m/the_raid_redemption/\">The Raid: Redemption</a> <span class=\"subtle start-year\">(2012)</span> <span class=\"icon tiny certified\" title=\"Certified Fresh\"></span> <span class=\"tMeterScore\">86%</span></h2>,\n",
       " <h2><a href=\"https://www.rottentomatoes.com/m/mission_impossible_fallout/\">Mission: Impossible - Fallout</a> <span class=\"subtle start-year\">(2018)</span> <span class=\"icon tiny certified\" title=\"Certified Fresh\"></span> <span class=\"tMeterScore\">97%</span></h2>,\n",
       " <h2><a href=\"https://www.rottentomatoes.com/m/raiders_of_the_lost_ark/\">Raiders of the Lost Ark</a> <span class=\"subtle start-year\">(1981)</span> <span class=\"icon tiny certified\" title=\"Certified Fresh\"></span> <span class=\"tMeterScore\">95%</span></h2>,\n",
       " <h2><a href=\"https://www.rottentomatoes.com/m/1000617-aliens/\">Aliens</a> <span class=\"subtle start-year\">(1986)</span> <span class=\"icon tiny certified\" title=\"Certified Fresh\"></span> <span class=\"tMeterScore\">99%</span></h2>,\n",
       " <h2><a href=\"https://www.rottentomatoes.com/m/hard_boiled/\">Lat sau san taam (Hard-Boiled)</a> <span class=\"subtle start-year\">(1992)</span> <span class=\"icon tiny fresh\" title=\"Fresh\"></span> <span class=\"tMeterScore\">94%</span></h2>,\n",
       " <h2><a href=\"https://www.rottentomatoes.com/m/matrix/\">The Matrix</a> <span class=\"subtle start-year\">(1999)</span> <span class=\"icon tiny certified\" title=\"Certified Fresh\"></span> <span class=\"tMeterScore\">88%</span></h2>,\n",
       " <h2><a href=\"https://www.rottentomatoes.com/m/terminator_2_judgment_day/\">Terminator 2: Judgment Day</a> <span class=\"subtle start-year\">(1991)</span> <span class=\"icon tiny certified\" title=\"Certified Fresh\"></span> <span class=\"tMeterScore\">93%</span></h2>,\n",
       " <h2><a href=\"https://www.rottentomatoes.com/m/die_hard/\">Die Hard</a> <span class=\"subtle start-year\">(1988)</span> <span class=\"icon tiny certified\" title=\"Certified Fresh\"></span> <span class=\"tMeterScore\">93%</span></h2>,\n",
       " <h2><a href=\"https://www.rottentomatoes.com/m/mad_max_fury_road/\">Mad Max: Fury Road</a> <span class=\"subtle start-year\">(2015)</span> <span class=\"icon tiny certified\" title=\"Certified Fresh\"></span> <span class=\"tMeterScore\">97%</span></h2>]"
      ]
     },
     "execution_count": 7,
     "metadata": {},
     "output_type": "execute_result"
    }
   ],
   "source": [
    "# Extracting all 'h2' tags\n",
    "headings = [div.find(\"h2\") for div in divs]\n",
    "headings"
   ]
  },
  {
   "cell_type": "markdown",
   "metadata": {},
   "source": [
    "## Extracting the scores"
   ]
  },
  {
   "cell_type": "code",
   "execution_count": 8,
   "metadata": {
    "scrolled": true
   },
   "outputs": [
    {
     "data": {
      "text/plain": [
       "[<span class=\"tMeterScore\">95%</span>,\n",
       " <span class=\"tMeterScore\">88%</span>,\n",
       " <span class=\"tMeterScore\">88%</span>,\n",
       " <span class=\"tMeterScore\">90%</span>,\n",
       " <span class=\"tMeterScore\">93%</span>,\n",
       " <span class=\"tMeterScore\">94%</span>,\n",
       " <span class=\"tMeterScore\">90%</span>,\n",
       " <span class=\"tMeterScore\">93%</span>,\n",
       " <span class=\"tMeterScore\">97%</span>,\n",
       " <span class=\"tMeterScore\">98%</span>,\n",
       " <span class=\"tMeterScore\">93%</span>,\n",
       " <span class=\"tMeterScore\">92%</span>,\n",
       " <span class=\"tMeterScore\">90%</span>,\n",
       " <span class=\"tMeterScore\">82%</span>,\n",
       " <span class=\"tMeterScore\">98%</span>,\n",
       " <span class=\"tMeterScore\">81%</span>,\n",
       " <span class=\"tMeterScore\">88%</span>,\n",
       " <span class=\"tMeterScore\">96%</span>,\n",
       " <span class=\"tMeterScore\">91%</span>,\n",
       " <span class=\"tMeterScore\">90%</span>,\n",
       " <span class=\"tMeterScore\">85%</span>,\n",
       " <span class=\"tMeterScore\">96%</span>,\n",
       " <span class=\"tMeterScore\">97%</span>,\n",
       " <span class=\"tMeterScore\">87%</span>,\n",
       " <span class=\"tMeterScore\">77%</span>,\n",
       " <span class=\"tMeterScore\">90%</span>,\n",
       " <span class=\"tMeterScore\">94%</span>,\n",
       " <span class=\"tMeterScore\">79%</span>,\n",
       " <span class=\"tMeterScore\">83%</span>,\n",
       " <span class=\"tMeterScore\">85%</span>,\n",
       " <span class=\"tMeterScore\">92%</span>,\n",
       " <span class=\"tMeterScore\">91%</span>,\n",
       " <span class=\"tMeterScore\">94%</span>,\n",
       " <span class=\"tMeterScore\">93%</span>,\n",
       " <span class=\"tMeterScore\">77%</span>,\n",
       " <span class=\"tMeterScore\">82%</span>,\n",
       " <span class=\"tMeterScore\">66%</span>,\n",
       " <span class=\"tMeterScore\">89%</span>,\n",
       " <span class=\"tMeterScore\">89%</span>,\n",
       " <span class=\"tMeterScore\">95%</span>,\n",
       " <span class=\"tMeterScore\">93%</span>,\n",
       " <span class=\"tMeterScore\">100%</span>,\n",
       " <span class=\"tMeterScore\">98%</span>,\n",
       " <span class=\"tMeterScore\">80%</span>,\n",
       " <span class=\"tMeterScore\">94%</span>,\n",
       " <span class=\"tMeterScore\">70%</span>,\n",
       " <span class=\"tMeterScore\">87%</span>,\n",
       " <span class=\"tMeterScore\">93%</span>,\n",
       " <span class=\"tMeterScore\">100%</span>,\n",
       " <span class=\"tMeterScore\">76%</span>,\n",
       " <span class=\"tMeterScore\">85%</span>,\n",
       " <span class=\"tMeterScore\">73%</span>,\n",
       " <span class=\"tMeterScore\">94%</span>,\n",
       " <span class=\"tMeterScore\">83%</span>,\n",
       " <span class=\"tMeterScore\">86%</span>,\n",
       " <span class=\"tMeterScore\">97%</span>,\n",
       " <span class=\"tMeterScore\">81%</span>,\n",
       " <span class=\"tMeterScore\">92%</span>,\n",
       " <span class=\"tMeterScore\">82%</span>,\n",
       " <span class=\"tMeterScore\">95%</span>,\n",
       " <span class=\"tMeterScore\">86%</span>,\n",
       " <span class=\"tMeterScore\">86%</span>,\n",
       " <span class=\"tMeterScore\">97%</span>,\n",
       " <span class=\"tMeterScore\">95%</span>,\n",
       " <span class=\"tMeterScore\">99%</span>,\n",
       " <span class=\"tMeterScore\">94%</span>,\n",
       " <span class=\"tMeterScore\">88%</span>,\n",
       " <span class=\"tMeterScore\">93%</span>,\n",
       " <span class=\"tMeterScore\">93%</span>,\n",
       " <span class=\"tMeterScore\">97%</span>]"
      ]
     },
     "execution_count": 8,
     "metadata": {},
     "output_type": "execute_result"
    }
   ],
   "source": [
    "# Filtering only the spans containing the score\n",
    "[heading.find(\"span\", class_ = 'tMeterScore') for heading in headings]"
   ]
  },
  {
   "cell_type": "code",
   "execution_count": 9,
   "metadata": {
    "scrolled": true
   },
   "outputs": [
    {
     "data": {
      "text/plain": [
       "['95%',\n",
       " '88%',\n",
       " '88%',\n",
       " '90%',\n",
       " '93%',\n",
       " '94%',\n",
       " '90%',\n",
       " '93%',\n",
       " '97%',\n",
       " '98%',\n",
       " '93%',\n",
       " '92%',\n",
       " '90%',\n",
       " '82%',\n",
       " '98%',\n",
       " '81%',\n",
       " '88%',\n",
       " '96%',\n",
       " '91%',\n",
       " '90%',\n",
       " '85%',\n",
       " '96%',\n",
       " '97%',\n",
       " '87%',\n",
       " '77%',\n",
       " '90%',\n",
       " '94%',\n",
       " '79%',\n",
       " '83%',\n",
       " '85%',\n",
       " '92%',\n",
       " '91%',\n",
       " '94%',\n",
       " '93%',\n",
       " '77%',\n",
       " '82%',\n",
       " '66%',\n",
       " '89%',\n",
       " '89%',\n",
       " '95%',\n",
       " '93%',\n",
       " '100%',\n",
       " '98%',\n",
       " '80%',\n",
       " '94%',\n",
       " '70%',\n",
       " '87%',\n",
       " '93%',\n",
       " '100%',\n",
       " '76%',\n",
       " '85%',\n",
       " '73%',\n",
       " '94%',\n",
       " '83%',\n",
       " '86%',\n",
       " '97%',\n",
       " '81%',\n",
       " '92%',\n",
       " '82%',\n",
       " '95%',\n",
       " '86%',\n",
       " '86%',\n",
       " '97%',\n",
       " '95%',\n",
       " '99%',\n",
       " '94%',\n",
       " '88%',\n",
       " '93%',\n",
       " '93%',\n",
       " '97%']"
      ]
     },
     "execution_count": 9,
     "metadata": {},
     "output_type": "execute_result"
    }
   ],
   "source": [
    "# Extracting the score string\n",
    "scores = [heading.find(\"span\", class_ = 'tMeterScore').string for heading in headings]\n",
    "scores"
   ]
  },
  {
   "cell_type": "code",
   "execution_count": 10,
   "metadata": {
    "scrolled": true
   },
   "outputs": [
    {
     "data": {
      "text/plain": [
       "['95',\n",
       " '88',\n",
       " '88',\n",
       " '90',\n",
       " '93',\n",
       " '94',\n",
       " '90',\n",
       " '93',\n",
       " '97',\n",
       " '98',\n",
       " '93',\n",
       " '92',\n",
       " '90',\n",
       " '82',\n",
       " '98',\n",
       " '81',\n",
       " '88',\n",
       " '96',\n",
       " '91',\n",
       " '90',\n",
       " '85',\n",
       " '96',\n",
       " '97',\n",
       " '87',\n",
       " '77',\n",
       " '90',\n",
       " '94',\n",
       " '79',\n",
       " '83',\n",
       " '85',\n",
       " '92',\n",
       " '91',\n",
       " '94',\n",
       " '93',\n",
       " '77',\n",
       " '82',\n",
       " '66',\n",
       " '89',\n",
       " '89',\n",
       " '95',\n",
       " '93',\n",
       " '100',\n",
       " '98',\n",
       " '80',\n",
       " '94',\n",
       " '70',\n",
       " '87',\n",
       " '93',\n",
       " '100',\n",
       " '76',\n",
       " '85',\n",
       " '73',\n",
       " '94',\n",
       " '83',\n",
       " '86',\n",
       " '97',\n",
       " '81',\n",
       " '92',\n",
       " '82',\n",
       " '95',\n",
       " '86',\n",
       " '86',\n",
       " '97',\n",
       " '95',\n",
       " '99',\n",
       " '94',\n",
       " '88',\n",
       " '93',\n",
       " '93',\n",
       " '97']"
      ]
     },
     "execution_count": 10,
     "metadata": {},
     "output_type": "execute_result"
    }
   ],
   "source": [
    "# Removing the '%' sign\n",
    "scores = [s.strip('%') for s in scores]\n",
    "scores"
   ]
  },
  {
   "cell_type": "code",
   "execution_count": 11,
   "metadata": {
    "scrolled": true
   },
   "outputs": [
    {
     "data": {
      "text/plain": [
       "[95,\n",
       " 88,\n",
       " 88,\n",
       " 90,\n",
       " 93,\n",
       " 94,\n",
       " 90,\n",
       " 93,\n",
       " 97,\n",
       " 98,\n",
       " 93,\n",
       " 92,\n",
       " 90,\n",
       " 82,\n",
       " 98,\n",
       " 81,\n",
       " 88,\n",
       " 96,\n",
       " 91,\n",
       " 90,\n",
       " 85,\n",
       " 96,\n",
       " 97,\n",
       " 87,\n",
       " 77,\n",
       " 90,\n",
       " 94,\n",
       " 79,\n",
       " 83,\n",
       " 85,\n",
       " 92,\n",
       " 91,\n",
       " 94,\n",
       " 93,\n",
       " 77,\n",
       " 82,\n",
       " 66,\n",
       " 89,\n",
       " 89,\n",
       " 95,\n",
       " 93,\n",
       " 100,\n",
       " 98,\n",
       " 80,\n",
       " 94,\n",
       " 70,\n",
       " 87,\n",
       " 93,\n",
       " 100,\n",
       " 76,\n",
       " 85,\n",
       " 73,\n",
       " 94,\n",
       " 83,\n",
       " 86,\n",
       " 97,\n",
       " 81,\n",
       " 92,\n",
       " 82,\n",
       " 95,\n",
       " 86,\n",
       " 86,\n",
       " 97,\n",
       " 95,\n",
       " 99,\n",
       " 94,\n",
       " 88,\n",
       " 93,\n",
       " 93,\n",
       " 97]"
      ]
     },
     "execution_count": 11,
     "metadata": {},
     "output_type": "execute_result"
    }
   ],
   "source": [
    "# Converting each score to an integer\n",
    "scores = [int(s) for s in scores]\n",
    "scores"
   ]
  }
 ],
 "metadata": {
  "kernelspec": {
   "display_name": "Python 3",
   "language": "python",
   "name": "python3"
  },
  "language_info": {
   "codemirror_mode": {
    "name": "ipython",
    "version": 3
   },
   "file_extension": ".py",
   "mimetype": "text/x-python",
   "name": "python",
   "nbconvert_exporter": "python",
   "pygments_lexer": "ipython3",
   "version": "3.7.6"
  }
 },
 "nbformat": 4,
 "nbformat_minor": 4
}
